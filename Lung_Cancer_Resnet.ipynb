{
  "nbformat": 4,
  "nbformat_minor": 0,
  "metadata": {
    "colab": {
      "provenance": [],
      "gpuType": "T4"
    },
    "kernelspec": {
      "name": "python3",
      "display_name": "Python 3"
    },
    "language_info": {
      "name": "python"
    },
    "accelerator": "GPU"
  },
  "cells": [
    {
      "cell_type": "code",
      "execution_count": 1,
      "metadata": {
        "id": "qVaWVR1iL4Xg"
      },
      "outputs": [],
      "source": [
        "import os\n",
        "import cv2\n",
        "import keras\n",
        "import numpy as np\n",
        "import pandas as pd\n",
        "import random as rn\n",
        "from PIL import Image\n",
        "from tqdm import tqdm\n",
        "import tensorflow as tf\n",
        "import matplotlib.pyplot as plt\n",
        "from IPython.display import SVG\n",
        "from sklearn.metrics import accuracy_score\n",
        "from sklearn.preprocessing import LabelEncoder\n",
        "from sklearn.model_selection import train_test_split\n",
        "import gc\n",
        "from keras.callbacks import EarlyStopping, ModelCheckpoint\n",
        "\n",
        "from tensorflow.python.keras import backend as K\n",
        "from tensorflow.keras.optimizers import Adam\n",
        "from tensorflow.python.keras.models import Sequential\n",
        "from tensorflow.python.keras.callbacks import ReduceLROnPlateau\n",
        "from tensorflow.python.keras.utils.vis_utils import model_to_dot\n",
        "from tensorflow.keras.applications.vgg19 import VGG19\n",
        "from tensorflow.keras.applications.resnet50 import ResNet50,preprocess_input\n",
        "from tensorflow.keras.applications.inception_v3 import InceptionV3\n",
        "from tensorflow.keras.applications.xception import Xception\n",
        "from tensorflow.keras.applications import DenseNet201\n",
        "\n",
        "from tensorflow.keras import  layers, models\n",
        "\n",
        "\n",
        "\n",
        "from sklearn.model_selection import train_test_split,KFold, cross_val_score, GridSearchCV\n",
        "from tensorflow.keras.preprocessing.image import ImageDataGenerator, load_img, img_to_array, save_img\n",
        "from tensorflow.keras.layers import Dense, Flatten, MaxPooling2D, GlobalAveragePooling2D, BatchNormalization, Dropout, Conv2D, MaxPool2D, Activation\n",
        "from sklearn.utils import shuffle\n",
        "from sklearn import metrics\n",
        "#from sklearn.metrics import plot_confusion_matrix\n",
        "from tensorflow.keras.utils import plot_model"
      ]
    },
    {
      "cell_type": "code",
      "source": [
        "from google.colab import drive\n",
        "drive.mount('/content/drive')\n",
        "\n",
        "\n"
      ],
      "metadata": {
        "colab": {
          "base_uri": "https://localhost:8080/"
        },
        "id": "JW8P_Zl3MCOz",
        "outputId": "35e209e0-6b7a-45ac-8326-3f3329b8ca8b"
      },
      "execution_count": 2,
      "outputs": [
        {
          "output_type": "stream",
          "name": "stdout",
          "text": [
            "Mounted at /content/drive\n"
          ]
        }
      ]
    },
    {
      "cell_type": "code",
      "source": [
        "from PIL import Image\n",
        "import glob\n",
        "import os\n",
        "\n",
        "# Now you can use functions from the glob module\n",
        "\n",
        "# Rest of your code\n",
        "\n",
        "from tensorflow.keras.utils import to_categorical\n",
        "\n",
        "lung_cancer_dataset_path = r\"/content/drive/MyDrive/Sem4_Project /Lung Cancer/Dataset\"\n",
        "imagePatches = glob.glob(os.path.join(lung_cancer_dataset_path, '**', '*.*'), recursive=True)\n",
        "\n",
        "x = []\n",
        "y = []\n",
        "\n",
        "for img_path in imagePatches:\n",
        "\n",
        "    # Check if the file is an image (jpg, png, etc.)\n",
        "    _, file_extension = os.path.splitext(img_path)\n",
        "    if file_extension.lower() in {'.png', '.jpg', '.jpeg'}:\n",
        "        # Use PIL to open the image\n",
        "        try:\n",
        "            img = Image.open(img_path)\n",
        "            img = img.resize((224, 224))\n",
        "\n",
        "            # Convert RGBA or other modes to RGB\n",
        "            if img.mode != 'RGB':\n",
        "                img = img.convert('RGB')\n",
        "\n",
        "            im = np.array(img) / 255.0  # Normalize pixel values\n",
        "            x.append(im)\n",
        "\n",
        "            # Extract the class label from the subdirectory name\n",
        "            class_label = os.path.basename(os.path.dirname(img_path))\n",
        "\n",
        "            if 'benign' in class_label:\n",
        "                y.append(0)\n",
        "            elif 'malignant' in class_label:\n",
        "                y.append(1)\n",
        "            elif 'normal' in class_label:\n",
        "                y.append(2)\n",
        "        except Exception as e:\n",
        "            print(f\"Error processing {img_path}: {str(e)}\")\n",
        "\n",
        "x = np.array(x)\n",
        "y = np.array(y)\n"
      ],
      "metadata": {
        "id": "WMNPoe_8MFMO"
      },
      "execution_count": 3,
      "outputs": []
    },
    {
      "cell_type": "code",
      "source": [
        "print(\"Number of images:\", len(imagePatches))"
      ],
      "metadata": {
        "colab": {
          "base_uri": "https://localhost:8080/"
        },
        "id": "XNhTWO65MH31",
        "outputId": "f24d0cb5-6598-491a-dff7-f26e37f53195"
      },
      "execution_count": 4,
      "outputs": [
        {
          "output_type": "stream",
          "name": "stdout",
          "text": [
            "Number of images: 2074\n"
          ]
        }
      ]
    },
    {
      "cell_type": "code",
      "source": [
        "from sklearn.model_selection import train_test_split\n",
        "from tensorflow.keras.utils import to_categorical\n",
        "\n",
        "# Split the data into training and validation sets\n",
        "x_train, x_valid, y_train, y_valid = train_test_split(x, y, test_size=0.2, random_state=101, stratify=y)\n",
        "\n",
        "# One-hot encode the labels for training and validation sets\n",
        "y_train = to_categorical(y_train, num_classes=3)\n",
        "y_valid = to_categorical(y_valid, num_classes=3)\n",
        "\n",
        "# Delete the original x and y to free up memory\n",
        "del x, y\n"
      ],
      "metadata": {
        "id": "qgNAaJA5MK3B"
      },
      "execution_count": 5,
      "outputs": []
    },
    {
      "cell_type": "code",
      "source": [
        "# config the session\n",
        "import tensorflow as tf\n",
        "\n",
        "# Set the seed for hash based operations in python\n",
        "os.environ['PYTHONHASHSEED'] = '0'\n",
        "\n",
        "# Set the numpy seed\n",
        "np.random.seed(111)\n",
        "\n",
        "# Set the random seed in tensorflow at graph level\n",
        "tf.random.set_seed(111)\n",
        "from random import seed\n",
        "seed(111)"
      ],
      "metadata": {
        "id": "oFaZ-xvtMP0G"
      },
      "execution_count": 6,
      "outputs": []
    },
    {
      "cell_type": "code",
      "source": [
        "from keras import layers, Model, backend\n",
        "\n",
        "channel_axis = -1  # color channels are expected to be the last dimension of the input data\n",
        "\n",
        "def conv_block(input_tensor, filters, kernel_size, strides=(1, 1), name=None):\n",
        "    \"\"\"Convolution Block with BatchNormalization and ReLU activation.\"\"\"\n",
        "    if name is not None:\n",
        "        conv_name = name + '_conv'\n",
        "        bn_name = name + '_bn'\n",
        "        act_name = name + '_act'\n",
        "    else:\n",
        "        conv_name = None\n",
        "        bn_name = None\n",
        "        act_name = None\n",
        "\n",
        "    x = layers.Conv2D(filters, kernel_size,\n",
        "                      strides=strides,\n",
        "                      padding='same',\n",
        "                      use_bias=False,\n",
        "                      name=conv_name)(input_tensor)\n",
        "    x = layers.BatchNormalization(axis=channel_axis, name=bn_name)(x)\n",
        "    x = layers.Activation('relu', name=act_name)(x)\n",
        "\n",
        "    return x\n",
        "\n",
        "def residual_block(input_tensor, filters, kernel_size, strides=(1, 1), adjust_dimensions=False, block_name=None):\n",
        "    \"\"\"A Residual Block with optional dimension adjustment.\"\"\"\n",
        "    # Path to adjust dimensions if needed\n",
        "    shortcut = input_tensor\n",
        "    if adjust_dimensions:\n",
        "        shortcut = layers.Conv2D(filters, (1, 1), strides=strides, padding='same', use_bias=False)(shortcut)\n",
        "        shortcut = layers.BatchNormalization(axis=channel_axis)(shortcut)\n",
        "\n",
        "    # Main path\n",
        "    x = conv_block(input_tensor, filters, kernel_size, strides=strides, name=f'{block_name}_conv1')\n",
        "    x = conv_block(x, filters, kernel_size, strides=(1, 1), name=f'{block_name}_conv2')\n",
        "\n",
        "    # Adding back the shortcut path\n",
        "    x = layers.add([x, shortcut])\n",
        "    x = layers.Activation('relu')(x)\n",
        "\n",
        "    return x\n",
        "\n",
        "def build_model():\n",
        "    img_input = layers.Input(shape=(224, 224, 3))\n",
        "\n",
        "    # Initial Conv Block\n",
        "    x = conv_block(img_input, 32, (3, 3), name='block1')\n",
        "    x = layers.MaxPooling2D((2, 2), strides=(2, 2), padding='same', name='block1_pool')(x)\n",
        "\n",
        "    # First Residual Block\n",
        "    x = residual_block(x, 32, (3, 3), block_name='block2')\n",
        "\n",
        "    # Further blocks can be added in a similar fashion\n",
        "    # Notice we need to adjust dimensions when increasing the number of filters\n",
        "    x = residual_block(x, 64, (3, 3), adjust_dimensions=True, strides=(2, 2), block_name='block3')\n",
        "\n",
        "    # Continue building your model\n",
        "    # For simplicity, adding one more block and then going to dense layers\n",
        "    x = residual_block(x, 128, (3, 3), adjust_dimensions=True, strides=(2, 2), block_name='block4')\n",
        "    x = layers.MaxPooling2D((3, 3), strides=(3, 3), padding='same', name='final_pool')(x)\n",
        "\n",
        "    # Final Dense Layers\n",
        "    x = layers.Flatten(name='flatten')(x)\n",
        "    x = layers.Dense(512, activation='relu', name='fc1')(x)\n",
        "    x = layers.Dense(3, activation='softmax', name='predictions')(x)\n",
        "\n",
        "    model = Model(inputs=img_input, outputs=x, name='model_with_skip_connections')\n",
        "    return model\n",
        "\n",
        "model = build_model()\n",
        "model.summary()\n"
      ],
      "metadata": {
        "colab": {
          "base_uri": "https://localhost:8080/"
        },
        "id": "CizTdOXHMUWE",
        "outputId": "2eb3ad7b-779b-4aca-eb1d-c7ebb21be625"
      },
      "execution_count": 7,
      "outputs": [
        {
          "output_type": "stream",
          "name": "stdout",
          "text": [
            "Model: \"model_with_skip_connections\"\n",
            "__________________________________________________________________________________________________\n",
            " Layer (type)                Output Shape                 Param #   Connected to                  \n",
            "==================================================================================================\n",
            " input_1 (InputLayer)        [(None, 224, 224, 3)]        0         []                            \n",
            "                                                                                                  \n",
            " block1_conv (Conv2D)        (None, 224, 224, 32)         864       ['input_1[0][0]']             \n",
            "                                                                                                  \n",
            " block1_bn (BatchNormalizat  (None, 224, 224, 32)         128       ['block1_conv[0][0]']         \n",
            " ion)                                                                                             \n",
            "                                                                                                  \n",
            " block1_act (Activation)     (None, 224, 224, 32)         0         ['block1_bn[0][0]']           \n",
            "                                                                                                  \n",
            " block1_pool (MaxPooling2D)  (None, 112, 112, 32)         0         ['block1_act[0][0]']          \n",
            "                                                                                                  \n",
            " block2_conv1_conv (Conv2D)  (None, 112, 112, 32)         9216      ['block1_pool[0][0]']         \n",
            "                                                                                                  \n",
            " block2_conv1_bn (BatchNorm  (None, 112, 112, 32)         128       ['block2_conv1_conv[0][0]']   \n",
            " alization)                                                                                       \n",
            "                                                                                                  \n",
            " block2_conv1_act (Activati  (None, 112, 112, 32)         0         ['block2_conv1_bn[0][0]']     \n",
            " on)                                                                                              \n",
            "                                                                                                  \n",
            " block2_conv2_conv (Conv2D)  (None, 112, 112, 32)         9216      ['block2_conv1_act[0][0]']    \n",
            "                                                                                                  \n",
            " block2_conv2_bn (BatchNorm  (None, 112, 112, 32)         128       ['block2_conv2_conv[0][0]']   \n",
            " alization)                                                                                       \n",
            "                                                                                                  \n",
            " block2_conv2_act (Activati  (None, 112, 112, 32)         0         ['block2_conv2_bn[0][0]']     \n",
            " on)                                                                                              \n",
            "                                                                                                  \n",
            " add (Add)                   (None, 112, 112, 32)         0         ['block2_conv2_act[0][0]',    \n",
            "                                                                     'block1_pool[0][0]']         \n",
            "                                                                                                  \n",
            " activation (Activation)     (None, 112, 112, 32)         0         ['add[0][0]']                 \n",
            "                                                                                                  \n",
            " block3_conv1_conv (Conv2D)  (None, 56, 56, 64)           18432     ['activation[0][0]']          \n",
            "                                                                                                  \n",
            " block3_conv1_bn (BatchNorm  (None, 56, 56, 64)           256       ['block3_conv1_conv[0][0]']   \n",
            " alization)                                                                                       \n",
            "                                                                                                  \n",
            " block3_conv1_act (Activati  (None, 56, 56, 64)           0         ['block3_conv1_bn[0][0]']     \n",
            " on)                                                                                              \n",
            "                                                                                                  \n",
            " block3_conv2_conv (Conv2D)  (None, 56, 56, 64)           36864     ['block3_conv1_act[0][0]']    \n",
            "                                                                                                  \n",
            " block3_conv2_bn (BatchNorm  (None, 56, 56, 64)           256       ['block3_conv2_conv[0][0]']   \n",
            " alization)                                                                                       \n",
            "                                                                                                  \n",
            " conv2d (Conv2D)             (None, 56, 56, 64)           2048      ['activation[0][0]']          \n",
            "                                                                                                  \n",
            " block3_conv2_act (Activati  (None, 56, 56, 64)           0         ['block3_conv2_bn[0][0]']     \n",
            " on)                                                                                              \n",
            "                                                                                                  \n",
            " batch_normalization (Batch  (None, 56, 56, 64)           256       ['conv2d[0][0]']              \n",
            " Normalization)                                                                                   \n",
            "                                                                                                  \n",
            " add_1 (Add)                 (None, 56, 56, 64)           0         ['block3_conv2_act[0][0]',    \n",
            "                                                                     'batch_normalization[0][0]'] \n",
            "                                                                                                  \n",
            " activation_1 (Activation)   (None, 56, 56, 64)           0         ['add_1[0][0]']               \n",
            "                                                                                                  \n",
            " block4_conv1_conv (Conv2D)  (None, 28, 28, 128)          73728     ['activation_1[0][0]']        \n",
            "                                                                                                  \n",
            " block4_conv1_bn (BatchNorm  (None, 28, 28, 128)          512       ['block4_conv1_conv[0][0]']   \n",
            " alization)                                                                                       \n",
            "                                                                                                  \n",
            " block4_conv1_act (Activati  (None, 28, 28, 128)          0         ['block4_conv1_bn[0][0]']     \n",
            " on)                                                                                              \n",
            "                                                                                                  \n",
            " block4_conv2_conv (Conv2D)  (None, 28, 28, 128)          147456    ['block4_conv1_act[0][0]']    \n",
            "                                                                                                  \n",
            " block4_conv2_bn (BatchNorm  (None, 28, 28, 128)          512       ['block4_conv2_conv[0][0]']   \n",
            " alization)                                                                                       \n",
            "                                                                                                  \n",
            " conv2d_1 (Conv2D)           (None, 28, 28, 128)          8192      ['activation_1[0][0]']        \n",
            "                                                                                                  \n",
            " block4_conv2_act (Activati  (None, 28, 28, 128)          0         ['block4_conv2_bn[0][0]']     \n",
            " on)                                                                                              \n",
            "                                                                                                  \n",
            " batch_normalization_1 (Bat  (None, 28, 28, 128)          512       ['conv2d_1[0][0]']            \n",
            " chNormalization)                                                                                 \n",
            "                                                                                                  \n",
            " add_2 (Add)                 (None, 28, 28, 128)          0         ['block4_conv2_act[0][0]',    \n",
            "                                                                     'batch_normalization_1[0][0]'\n",
            "                                                                    ]                             \n",
            "                                                                                                  \n",
            " activation_2 (Activation)   (None, 28, 28, 128)          0         ['add_2[0][0]']               \n",
            "                                                                                                  \n",
            " final_pool (MaxPooling2D)   (None, 10, 10, 128)          0         ['activation_2[0][0]']        \n",
            "                                                                                                  \n",
            " flatten (Flatten)           (None, 12800)                0         ['final_pool[0][0]']          \n",
            "                                                                                                  \n",
            " fc1 (Dense)                 (None, 512)                  6554112   ['flatten[0][0]']             \n",
            "                                                                                                  \n",
            " predictions (Dense)         (None, 3)                    1539      ['fc1[0][0]']                 \n",
            "                                                                                                  \n",
            "==================================================================================================\n",
            "Total params: 6864355 (26.19 MB)\n",
            "Trainable params: 6863011 (26.18 MB)\n",
            "Non-trainable params: 1344 (5.25 KB)\n",
            "__________________________________________________________________________________________________\n"
          ]
        }
      ]
    },
    {
      "cell_type": "code",
      "source": [
        "LEARN_RATE = 1e-4\n",
        "from tensorflow.keras.optimizers import Adam\n",
        "model.compile(optimizer = Adam(lr = LEARN_RATE), loss = 'categorical_crossentropy',\n",
        "                           metrics = ['categorical_accuracy'])"
      ],
      "metadata": {
        "colab": {
          "base_uri": "https://localhost:8080/"
        },
        "id": "hIws05HGMxN1",
        "outputId": "71c1b297-e1fe-4196-a7b5-b7c7649055b8"
      },
      "execution_count": 8,
      "outputs": [
        {
          "output_type": "stream",
          "name": "stderr",
          "text": [
            "WARNING:absl:`lr` is deprecated in Keras optimizer, please use `learning_rate` or use the legacy optimizer, e.g.,tf.keras.optimizers.legacy.Adam.\n"
          ]
        }
      ]
    },
    {
      "cell_type": "code",
      "source": [
        "from keras.callbacks import ModelCheckpoint, LearningRateScheduler, EarlyStopping, ReduceLROnPlateau\n",
        "weight_path=\"{}.best_only.hdf5\".format('save')\n",
        "\n",
        "checkpoint = ModelCheckpoint(weight_path, monitor='val_loss', verbose=1,\n",
        "                             save_best_only=True, mode='min', save_weights_only = True)\n",
        "\n",
        "reduceLROnPlat = ReduceLROnPlateau(monitor='val_loss', factor=0.8,\n",
        "                              patience=5, verbose=1, mode='auto',\n",
        "                              epsilon=0.0001, cooldown=5, min_lr=0.0001)\n",
        "early = EarlyStopping(monitor=\"val_loss\",\n",
        "                      mode=\"min\",\n",
        "                      patience=40) # probably needs to be more patient, but kaggle time is limited\n",
        "callbacks_list = [checkpoint, early,reduceLROnPlat]"
      ],
      "metadata": {
        "colab": {
          "base_uri": "https://localhost:8080/"
        },
        "id": "FztLT6yAM2Il",
        "outputId": "ce6d9a25-25ec-4b30-8f5e-638be3288dad"
      },
      "execution_count": 9,
      "outputs": [
        {
          "output_type": "stream",
          "name": "stderr",
          "text": [
            "WARNING:tensorflow:`epsilon` argument is deprecated and will be removed, use `min_delta` instead.\n"
          ]
        }
      ]
    },
    {
      "cell_type": "code",
      "source": [
        "\n",
        "history = model.fit(x_train,y_train,batch_size = 16,\n",
        "                    epochs = 100, verbose=1,  validation_split=0.2, callbacks=callbacks_list)"
      ],
      "metadata": {
        "colab": {
          "base_uri": "https://localhost:8080/"
        },
        "id": "Kmer3fiHM4MF",
        "outputId": "7762637c-3b25-4ba6-a857-c94a52da551c"
      },
      "execution_count": 10,
      "outputs": [
        {
          "output_type": "stream",
          "name": "stdout",
          "text": [
            "Epoch 1/100\n",
            "83/83 [==============================] - ETA: 0s - loss: 6.3718 - categorical_accuracy: 0.6910\n",
            "Epoch 1: val_loss improved from inf to 13.19693, saving model to save.best_only.hdf5\n",
            "83/83 [==============================] - 17s 91ms/step - loss: 6.3718 - categorical_accuracy: 0.6910 - val_loss: 13.1969 - val_categorical_accuracy: 0.6777 - lr: 0.0010\n",
            "Epoch 2/100\n",
            "82/83 [============================>.] - ETA: 0s - loss: 0.7767 - categorical_accuracy: 0.7774\n",
            "Epoch 2: val_loss did not improve from 13.19693\n",
            "83/83 [==============================] - 4s 49ms/step - loss: 0.7716 - categorical_accuracy: 0.7784 - val_loss: 34.5542 - val_categorical_accuracy: 0.6777 - lr: 0.0010\n",
            "Epoch 3/100\n",
            "82/83 [============================>.] - ETA: 0s - loss: 0.3901 - categorical_accuracy: 0.8834\n",
            "Epoch 3: val_loss did not improve from 13.19693\n",
            "83/83 [==============================] - 4s 49ms/step - loss: 0.3981 - categorical_accuracy: 0.8824 - val_loss: 16.6921 - val_categorical_accuracy: 0.6777 - lr: 0.0010\n",
            "Epoch 4/100\n",
            "83/83 [==============================] - ETA: 0s - loss: 0.2160 - categorical_accuracy: 0.9284\n",
            "Epoch 4: val_loss did not improve from 13.19693\n",
            "83/83 [==============================] - 4s 52ms/step - loss: 0.2160 - categorical_accuracy: 0.9284 - val_loss: 17.4557 - val_categorical_accuracy: 0.6777 - lr: 0.0010\n",
            "Epoch 5/100\n",
            "82/83 [============================>.] - ETA: 0s - loss: 0.6519 - categorical_accuracy: 0.8834\n",
            "Epoch 5: val_loss improved from 13.19693 to 2.53804, saving model to save.best_only.hdf5\n",
            "83/83 [==============================] - 4s 51ms/step - loss: 0.6480 - categorical_accuracy: 0.8832 - val_loss: 2.5380 - val_categorical_accuracy: 0.6958 - lr: 0.0010\n",
            "Epoch 6/100\n",
            "83/83 [==============================] - ETA: 0s - loss: 0.1576 - categorical_accuracy: 0.9503\n",
            "Epoch 6: val_loss improved from 2.53804 to 1.20710, saving model to save.best_only.hdf5\n",
            "83/83 [==============================] - 4s 50ms/step - loss: 0.1576 - categorical_accuracy: 0.9503 - val_loss: 1.2071 - val_categorical_accuracy: 0.6837 - lr: 0.0010\n",
            "Epoch 7/100\n",
            "82/83 [============================>.] - ETA: 0s - loss: 0.0729 - categorical_accuracy: 0.9726\n",
            "Epoch 7: val_loss improved from 1.20710 to 0.57706, saving model to save.best_only.hdf5\n",
            "83/83 [==============================] - 4s 52ms/step - loss: 0.0726 - categorical_accuracy: 0.9729 - val_loss: 0.5771 - val_categorical_accuracy: 0.8193 - lr: 0.0010\n",
            "Epoch 8/100\n",
            "83/83 [==============================] - ETA: 0s - loss: 0.0470 - categorical_accuracy: 0.9857\n",
            "Epoch 8: val_loss improved from 0.57706 to 0.19448, saving model to save.best_only.hdf5\n",
            "83/83 [==============================] - 4s 50ms/step - loss: 0.0470 - categorical_accuracy: 0.9857 - val_loss: 0.1945 - val_categorical_accuracy: 0.9729 - lr: 0.0010\n",
            "Epoch 9/100\n",
            "83/83 [==============================] - ETA: 0s - loss: 0.1061 - categorical_accuracy: 0.9744\n",
            "Epoch 9: val_loss did not improve from 0.19448\n",
            "83/83 [==============================] - 4s 50ms/step - loss: 0.1061 - categorical_accuracy: 0.9744 - val_loss: 2.2200 - val_categorical_accuracy: 0.6084 - lr: 0.0010\n",
            "Epoch 10/100\n",
            "82/83 [============================>.] - ETA: 0s - loss: 0.0409 - categorical_accuracy: 0.9855\n",
            "Epoch 10: val_loss did not improve from 0.19448\n",
            "83/83 [==============================] - 4s 53ms/step - loss: 0.0405 - categorical_accuracy: 0.9857 - val_loss: 0.2531 - val_categorical_accuracy: 0.9608 - lr: 0.0010\n",
            "Epoch 11/100\n",
            "83/83 [==============================] - ETA: 0s - loss: 0.0179 - categorical_accuracy: 0.9962\n",
            "Epoch 11: val_loss did not improve from 0.19448\n",
            "83/83 [==============================] - 4s 50ms/step - loss: 0.0179 - categorical_accuracy: 0.9962 - val_loss: 0.2208 - val_categorical_accuracy: 0.9759 - lr: 0.0010\n",
            "Epoch 12/100\n",
            "83/83 [==============================] - ETA: 0s - loss: 0.0098 - categorical_accuracy: 0.9962\n",
            "Epoch 12: val_loss did not improve from 0.19448\n",
            "83/83 [==============================] - 4s 50ms/step - loss: 0.0098 - categorical_accuracy: 0.9962 - val_loss: 0.2261 - val_categorical_accuracy: 0.9669 - lr: 0.0010\n",
            "Epoch 13/100\n",
            "82/83 [============================>.] - ETA: 0s - loss: 0.0119 - categorical_accuracy: 0.9977\n",
            "Epoch 13: val_loss did not improve from 0.19448\n",
            "\n",
            "Epoch 13: ReduceLROnPlateau reducing learning rate to 0.000800000037997961.\n",
            "83/83 [==============================] - 5s 56ms/step - loss: 0.0118 - categorical_accuracy: 0.9977 - val_loss: 0.2565 - val_categorical_accuracy: 0.9608 - lr: 0.0010\n",
            "Epoch 14/100\n",
            "83/83 [==============================] - ETA: 0s - loss: 0.0090 - categorical_accuracy: 0.9962\n",
            "Epoch 14: val_loss did not improve from 0.19448\n",
            "83/83 [==============================] - 4s 50ms/step - loss: 0.0090 - categorical_accuracy: 0.9962 - val_loss: 0.2816 - val_categorical_accuracy: 0.9759 - lr: 8.0000e-04\n",
            "Epoch 15/100\n",
            "83/83 [==============================] - ETA: 0s - loss: 0.0125 - categorical_accuracy: 0.9947\n",
            "Epoch 15: val_loss did not improve from 0.19448\n",
            "83/83 [==============================] - 4s 50ms/step - loss: 0.0125 - categorical_accuracy: 0.9947 - val_loss: 0.2947 - val_categorical_accuracy: 0.9759 - lr: 8.0000e-04\n",
            "Epoch 16/100\n",
            "83/83 [==============================] - ETA: 0s - loss: 0.0050 - categorical_accuracy: 0.9992\n",
            "Epoch 16: val_loss did not improve from 0.19448\n",
            "83/83 [==============================] - 4s 54ms/step - loss: 0.0050 - categorical_accuracy: 0.9992 - val_loss: 0.2516 - val_categorical_accuracy: 0.9759 - lr: 8.0000e-04\n",
            "Epoch 17/100\n",
            "83/83 [==============================] - ETA: 0s - loss: 0.0047 - categorical_accuracy: 0.9992    \n",
            "Epoch 17: val_loss did not improve from 0.19448\n",
            "83/83 [==============================] - 4s 51ms/step - loss: 0.0047 - categorical_accuracy: 0.9992 - val_loss: 0.2541 - val_categorical_accuracy: 0.9759 - lr: 8.0000e-04\n",
            "Epoch 18/100\n",
            "83/83 [==============================] - ETA: 0s - loss: 0.0075 - categorical_accuracy: 0.9992\n",
            "Epoch 18: val_loss did not improve from 0.19448\n",
            "83/83 [==============================] - 4s 51ms/step - loss: 0.0075 - categorical_accuracy: 0.9992 - val_loss: 0.2337 - val_categorical_accuracy: 0.9759 - lr: 8.0000e-04\n",
            "Epoch 19/100\n",
            "83/83 [==============================] - ETA: 0s - loss: 0.0012 - categorical_accuracy: 1.0000\n",
            "Epoch 19: val_loss did not improve from 0.19448\n",
            "83/83 [==============================] - 4s 54ms/step - loss: 0.0012 - categorical_accuracy: 1.0000 - val_loss: 0.2363 - val_categorical_accuracy: 0.9759 - lr: 8.0000e-04\n",
            "Epoch 20/100\n",
            "82/83 [============================>.] - ETA: 0s - loss: 0.0058 - categorical_accuracy: 0.9985\n",
            "Epoch 20: val_loss did not improve from 0.19448\n",
            "83/83 [==============================] - 4s 52ms/step - loss: 0.0057 - categorical_accuracy: 0.9985 - val_loss: 0.2320 - val_categorical_accuracy: 0.9729 - lr: 8.0000e-04\n",
            "Epoch 21/100\n",
            "83/83 [==============================] - ETA: 0s - loss: 0.0035 - categorical_accuracy: 0.9985\n",
            "Epoch 21: val_loss improved from 0.19448 to 0.19263, saving model to save.best_only.hdf5\n",
            "83/83 [==============================] - 4s 52ms/step - loss: 0.0035 - categorical_accuracy: 0.9985 - val_loss: 0.1926 - val_categorical_accuracy: 0.9759 - lr: 8.0000e-04\n",
            "Epoch 22/100\n",
            "82/83 [============================>.] - ETA: 0s - loss: 0.0074 - categorical_accuracy: 0.9985\n",
            "Epoch 22: val_loss did not improve from 0.19263\n",
            "83/83 [==============================] - 5s 55ms/step - loss: 0.0073 - categorical_accuracy: 0.9985 - val_loss: 0.2569 - val_categorical_accuracy: 0.9759 - lr: 8.0000e-04\n",
            "Epoch 23/100\n",
            "82/83 [============================>.] - ETA: 0s - loss: 0.0014 - categorical_accuracy: 1.0000\n",
            "Epoch 23: val_loss did not improve from 0.19263\n",
            "83/83 [==============================] - 4s 52ms/step - loss: 0.0014 - categorical_accuracy: 1.0000 - val_loss: 0.2206 - val_categorical_accuracy: 0.9759 - lr: 8.0000e-04\n",
            "Epoch 24/100\n",
            "82/83 [============================>.] - ETA: 0s - loss: 0.0079 - categorical_accuracy: 0.9970\n",
            "Epoch 24: val_loss did not improve from 0.19263\n",
            "83/83 [==============================] - 4s 52ms/step - loss: 0.0078 - categorical_accuracy: 0.9970 - val_loss: 0.7394 - val_categorical_accuracy: 0.8705 - lr: 8.0000e-04\n",
            "Epoch 25/100\n",
            "82/83 [============================>.] - ETA: 0s - loss: 0.0304 - categorical_accuracy: 0.9901\n",
            "Epoch 25: val_loss did not improve from 0.19263\n",
            "83/83 [==============================] - 5s 55ms/step - loss: 0.0301 - categorical_accuracy: 0.9902 - val_loss: 0.2797 - val_categorical_accuracy: 0.9729 - lr: 8.0000e-04\n",
            "Epoch 26/100\n",
            "82/83 [============================>.] - ETA: 0s - loss: 0.0385 - categorical_accuracy: 0.9878\n",
            "Epoch 26: val_loss did not improve from 0.19263\n",
            "\n",
            "Epoch 26: ReduceLROnPlateau reducing learning rate to 0.0006400000303983689.\n",
            "83/83 [==============================] - 4s 52ms/step - loss: 0.0383 - categorical_accuracy: 0.9879 - val_loss: 0.9541 - val_categorical_accuracy: 0.8313 - lr: 8.0000e-04\n",
            "Epoch 27/100\n",
            "82/83 [============================>.] - ETA: 0s - loss: 0.2522 - categorical_accuracy: 0.9436\n",
            "Epoch 27: val_loss did not improve from 0.19263\n",
            "83/83 [==============================] - 4s 51ms/step - loss: 0.2494 - categorical_accuracy: 0.9442 - val_loss: 6.3006 - val_categorical_accuracy: 0.4819 - lr: 6.4000e-04\n",
            "Epoch 28/100\n",
            "82/83 [============================>.] - ETA: 0s - loss: 0.1576 - categorical_accuracy: 0.9596\n",
            "Epoch 28: val_loss did not improve from 0.19263\n",
            "83/83 [==============================] - 5s 57ms/step - loss: 0.1560 - categorical_accuracy: 0.9601 - val_loss: 0.6340 - val_categorical_accuracy: 0.8554 - lr: 6.4000e-04\n",
            "Epoch 29/100\n",
            "82/83 [============================>.] - ETA: 0s - loss: 0.0314 - categorical_accuracy: 0.9916\n",
            "Epoch 29: val_loss did not improve from 0.19263\n",
            "83/83 [==============================] - 4s 51ms/step - loss: 0.0311 - categorical_accuracy: 0.9917 - val_loss: 0.3414 - val_categorical_accuracy: 0.9428 - lr: 6.4000e-04\n",
            "Epoch 30/100\n",
            "82/83 [============================>.] - ETA: 0s - loss: 0.0041 - categorical_accuracy: 0.9992\n",
            "Epoch 30: val_loss did not improve from 0.19263\n",
            "83/83 [==============================] - 4s 51ms/step - loss: 0.0041 - categorical_accuracy: 0.9992 - val_loss: 0.2782 - val_categorical_accuracy: 0.9729 - lr: 6.4000e-04\n",
            "Epoch 31/100\n",
            "82/83 [============================>.] - ETA: 0s - loss: 0.0018 - categorical_accuracy: 1.0000\n",
            "Epoch 31: val_loss did not improve from 0.19263\n",
            "83/83 [==============================] - 4s 54ms/step - loss: 0.0018 - categorical_accuracy: 1.0000 - val_loss: 0.2881 - val_categorical_accuracy: 0.9669 - lr: 6.4000e-04\n",
            "Epoch 32/100\n",
            "82/83 [============================>.] - ETA: 0s - loss: 0.4538 - categorical_accuracy: 0.9162\n",
            "Epoch 32: val_loss did not improve from 0.19263\n",
            "83/83 [==============================] - 4s 51ms/step - loss: 0.4489 - categorical_accuracy: 0.9171 - val_loss: 2.4895 - val_categorical_accuracy: 0.5572 - lr: 6.4000e-04\n",
            "Epoch 33/100\n",
            "82/83 [============================>.] - ETA: 0s - loss: 0.0469 - categorical_accuracy: 0.9878\n",
            "Epoch 33: val_loss improved from 0.19263 to 0.17205, saving model to save.best_only.hdf5\n",
            "83/83 [==============================] - 4s 52ms/step - loss: 0.0464 - categorical_accuracy: 0.9879 - val_loss: 0.1721 - val_categorical_accuracy: 0.9759 - lr: 6.4000e-04\n",
            "Epoch 34/100\n",
            "83/83 [==============================] - ETA: 0s - loss: 0.0381 - categorical_accuracy: 0.9887\n",
            "Epoch 34: val_loss did not improve from 0.17205\n",
            "83/83 [==============================] - 4s 52ms/step - loss: 0.0381 - categorical_accuracy: 0.9887 - val_loss: 0.1897 - val_categorical_accuracy: 0.9669 - lr: 6.4000e-04\n",
            "Epoch 35/100\n",
            "83/83 [==============================] - ETA: 0s - loss: 0.0089 - categorical_accuracy: 0.9962\n",
            "Epoch 35: val_loss improved from 0.17205 to 0.16007, saving model to save.best_only.hdf5\n",
            "83/83 [==============================] - 4s 53ms/step - loss: 0.0089 - categorical_accuracy: 0.9962 - val_loss: 0.1601 - val_categorical_accuracy: 0.9729 - lr: 6.4000e-04\n",
            "Epoch 36/100\n",
            "83/83 [==============================] - ETA: 0s - loss: 0.0099 - categorical_accuracy: 0.9985\n",
            "Epoch 36: val_loss did not improve from 0.16007\n",
            "83/83 [==============================] - 4s 50ms/step - loss: 0.0099 - categorical_accuracy: 0.9985 - val_loss: 0.1766 - val_categorical_accuracy: 0.9759 - lr: 6.4000e-04\n",
            "Epoch 37/100\n",
            "83/83 [==============================] - ETA: 0s - loss: 0.0020 - categorical_accuracy: 1.0000\n",
            "Epoch 37: val_loss did not improve from 0.16007\n",
            "83/83 [==============================] - 4s 52ms/step - loss: 0.0020 - categorical_accuracy: 1.0000 - val_loss: 0.1930 - val_categorical_accuracy: 0.9729 - lr: 6.4000e-04\n",
            "Epoch 38/100\n",
            "82/83 [============================>.] - ETA: 0s - loss: 0.0012 - categorical_accuracy: 1.0000\n",
            "Epoch 38: val_loss did not improve from 0.16007\n",
            "83/83 [==============================] - 4s 52ms/step - loss: 0.0012 - categorical_accuracy: 1.0000 - val_loss: 0.1979 - val_categorical_accuracy: 0.9759 - lr: 6.4000e-04\n",
            "Epoch 39/100\n",
            "82/83 [============================>.] - ETA: 0s - loss: 0.0012 - categorical_accuracy: 1.0000\n",
            "Epoch 39: val_loss did not improve from 0.16007\n",
            "83/83 [==============================] - 4s 51ms/step - loss: 0.0012 - categorical_accuracy: 1.0000 - val_loss: 0.2037 - val_categorical_accuracy: 0.9729 - lr: 6.4000e-04\n",
            "Epoch 40/100\n",
            "83/83 [==============================] - ETA: 0s - loss: 7.4831e-04 - categorical_accuracy: 1.0000\n",
            "Epoch 40: val_loss did not improve from 0.16007\n",
            "\n",
            "Epoch 40: ReduceLROnPlateau reducing learning rate to 0.0005120000336319208.\n",
            "83/83 [==============================] - 4s 52ms/step - loss: 7.4831e-04 - categorical_accuracy: 1.0000 - val_loss: 0.2036 - val_categorical_accuracy: 0.9759 - lr: 6.4000e-04\n",
            "Epoch 41/100\n",
            "82/83 [============================>.] - ETA: 0s - loss: 9.9494e-04 - categorical_accuracy: 1.0000\n",
            "Epoch 41: val_loss did not improve from 0.16007\n",
            "83/83 [==============================] - 4s 53ms/step - loss: 9.8534e-04 - categorical_accuracy: 1.0000 - val_loss: 0.2029 - val_categorical_accuracy: 0.9729 - lr: 5.1200e-04\n",
            "Epoch 42/100\n",
            "82/83 [============================>.] - ETA: 0s - loss: 5.6950e-04 - categorical_accuracy: 1.0000\n",
            "Epoch 42: val_loss did not improve from 0.16007\n",
            "83/83 [==============================] - 4s 52ms/step - loss: 5.6535e-04 - categorical_accuracy: 1.0000 - val_loss: 0.2089 - val_categorical_accuracy: 0.9729 - lr: 5.1200e-04\n",
            "Epoch 43/100\n",
            "82/83 [============================>.] - ETA: 0s - loss: 4.9596e-04 - categorical_accuracy: 1.0000\n",
            "Epoch 43: val_loss did not improve from 0.16007\n",
            "83/83 [==============================] - 4s 53ms/step - loss: 4.9279e-04 - categorical_accuracy: 1.0000 - val_loss: 0.2098 - val_categorical_accuracy: 0.9729 - lr: 5.1200e-04\n",
            "Epoch 44/100\n",
            "82/83 [============================>.] - ETA: 0s - loss: 7.3191e-04 - categorical_accuracy: 1.0000\n",
            "Epoch 44: val_loss did not improve from 0.16007\n",
            "83/83 [==============================] - 4s 52ms/step - loss: 7.2414e-04 - categorical_accuracy: 1.0000 - val_loss: 0.2102 - val_categorical_accuracy: 0.9729 - lr: 5.1200e-04\n",
            "Epoch 45/100\n",
            "83/83 [==============================] - ETA: 0s - loss: 3.5257e-04 - categorical_accuracy: 1.0000\n",
            "Epoch 45: val_loss did not improve from 0.16007\n",
            "83/83 [==============================] - 4s 52ms/step - loss: 3.5257e-04 - categorical_accuracy: 1.0000 - val_loss: 0.2135 - val_categorical_accuracy: 0.9759 - lr: 5.1200e-04\n",
            "Epoch 46/100\n",
            "83/83 [==============================] - ETA: 0s - loss: 4.8919e-04 - categorical_accuracy: 1.0000\n",
            "Epoch 46: val_loss did not improve from 0.16007\n",
            "83/83 [==============================] - 4s 52ms/step - loss: 4.8919e-04 - categorical_accuracy: 1.0000 - val_loss: 0.2131 - val_categorical_accuracy: 0.9759 - lr: 5.1200e-04\n",
            "Epoch 47/100\n",
            "82/83 [============================>.] - ETA: 0s - loss: 3.3612e-04 - categorical_accuracy: 1.0000\n",
            "Epoch 47: val_loss did not improve from 0.16007\n",
            "83/83 [==============================] - 4s 53ms/step - loss: 3.3436e-04 - categorical_accuracy: 1.0000 - val_loss: 0.2164 - val_categorical_accuracy: 0.9729 - lr: 5.1200e-04\n",
            "Epoch 48/100\n",
            "83/83 [==============================] - ETA: 0s - loss: 3.4698e-04 - categorical_accuracy: 1.0000\n",
            "Epoch 48: val_loss did not improve from 0.16007\n",
            "83/83 [==============================] - 4s 52ms/step - loss: 3.4698e-04 - categorical_accuracy: 1.0000 - val_loss: 0.2215 - val_categorical_accuracy: 0.9729 - lr: 5.1200e-04\n",
            "Epoch 49/100\n",
            "83/83 [==============================] - ETA: 0s - loss: 2.6764e-04 - categorical_accuracy: 1.0000\n",
            "Epoch 49: val_loss did not improve from 0.16007\n",
            "\n",
            "Epoch 49: ReduceLROnPlateau reducing learning rate to 0.00040960004553198815.\n",
            "83/83 [==============================] - 4s 52ms/step - loss: 2.6764e-04 - categorical_accuracy: 1.0000 - val_loss: 0.2214 - val_categorical_accuracy: 0.9729 - lr: 5.1200e-04\n",
            "Epoch 50/100\n",
            "82/83 [============================>.] - ETA: 0s - loss: 1.8277e-04 - categorical_accuracy: 1.0000\n",
            "Epoch 50: val_loss did not improve from 0.16007\n",
            "83/83 [==============================] - 4s 53ms/step - loss: 1.8337e-04 - categorical_accuracy: 1.0000 - val_loss: 0.2219 - val_categorical_accuracy: 0.9729 - lr: 4.0960e-04\n",
            "Epoch 51/100\n",
            "82/83 [============================>.] - ETA: 0s - loss: 1.8289e-04 - categorical_accuracy: 1.0000\n",
            "Epoch 51: val_loss did not improve from 0.16007\n",
            "83/83 [==============================] - 4s 51ms/step - loss: 1.8663e-04 - categorical_accuracy: 1.0000 - val_loss: 0.2237 - val_categorical_accuracy: 0.9729 - lr: 4.0960e-04\n",
            "Epoch 52/100\n",
            "83/83 [==============================] - ETA: 0s - loss: 1.8777e-04 - categorical_accuracy: 1.0000\n",
            "Epoch 52: val_loss did not improve from 0.16007\n",
            "83/83 [==============================] - 5s 55ms/step - loss: 1.8777e-04 - categorical_accuracy: 1.0000 - val_loss: 0.2248 - val_categorical_accuracy: 0.9729 - lr: 4.0960e-04\n",
            "Epoch 53/100\n",
            "82/83 [============================>.] - ETA: 0s - loss: 2.3211e-04 - categorical_accuracy: 1.0000\n",
            "Epoch 53: val_loss did not improve from 0.16007\n",
            "83/83 [==============================] - 4s 53ms/step - loss: 2.3056e-04 - categorical_accuracy: 1.0000 - val_loss: 0.2234 - val_categorical_accuracy: 0.9759 - lr: 4.0960e-04\n",
            "Epoch 54/100\n",
            "82/83 [============================>.] - ETA: 0s - loss: 2.4484e-04 - categorical_accuracy: 1.0000\n",
            "Epoch 54: val_loss did not improve from 0.16007\n",
            "83/83 [==============================] - 4s 51ms/step - loss: 2.4518e-04 - categorical_accuracy: 1.0000 - val_loss: 0.2339 - val_categorical_accuracy: 0.9729 - lr: 4.0960e-04\n",
            "Epoch 55/100\n",
            "83/83 [==============================] - ETA: 0s - loss: 1.5947e-04 - categorical_accuracy: 1.0000\n",
            "Epoch 55: val_loss did not improve from 0.16007\n",
            "83/83 [==============================] - 5s 55ms/step - loss: 1.5947e-04 - categorical_accuracy: 1.0000 - val_loss: 0.2312 - val_categorical_accuracy: 0.9729 - lr: 4.0960e-04\n",
            "Epoch 56/100\n",
            "83/83 [==============================] - ETA: 0s - loss: 1.6095e-04 - categorical_accuracy: 1.0000\n",
            "Epoch 56: val_loss did not improve from 0.16007\n",
            "83/83 [==============================] - 4s 53ms/step - loss: 1.6095e-04 - categorical_accuracy: 1.0000 - val_loss: 0.2319 - val_categorical_accuracy: 0.9759 - lr: 4.0960e-04\n",
            "Epoch 57/100\n",
            "83/83 [==============================] - ETA: 0s - loss: 1.3267e-04 - categorical_accuracy: 1.0000\n",
            "Epoch 57: val_loss did not improve from 0.16007\n",
            "83/83 [==============================] - 4s 50ms/step - loss: 1.3267e-04 - categorical_accuracy: 1.0000 - val_loss: 0.2347 - val_categorical_accuracy: 0.9759 - lr: 4.0960e-04\n",
            "Epoch 58/100\n",
            "82/83 [============================>.] - ETA: 0s - loss: 1.2820e-04 - categorical_accuracy: 1.0000\n",
            "Epoch 58: val_loss did not improve from 0.16007\n",
            "\n",
            "Epoch 58: ReduceLROnPlateau reducing learning rate to 0.00032768002711236477.\n",
            "83/83 [==============================] - 4s 51ms/step - loss: 1.3893e-04 - categorical_accuracy: 1.0000 - val_loss: 0.2335 - val_categorical_accuracy: 0.9759 - lr: 4.0960e-04\n",
            "Epoch 59/100\n",
            "82/83 [============================>.] - ETA: 0s - loss: 2.1958e-04 - categorical_accuracy: 1.0000\n",
            "Epoch 59: val_loss did not improve from 0.16007\n",
            "83/83 [==============================] - 4s 54ms/step - loss: 2.1730e-04 - categorical_accuracy: 1.0000 - val_loss: 0.2304 - val_categorical_accuracy: 0.9729 - lr: 3.2768e-04\n",
            "Epoch 60/100\n",
            "83/83 [==============================] - ETA: 0s - loss: 1.6211e-04 - categorical_accuracy: 1.0000\n",
            "Epoch 60: val_loss did not improve from 0.16007\n",
            "83/83 [==============================] - 4s 51ms/step - loss: 1.6211e-04 - categorical_accuracy: 1.0000 - val_loss: 0.2341 - val_categorical_accuracy: 0.9729 - lr: 3.2768e-04\n",
            "Epoch 61/100\n",
            "82/83 [============================>.] - ETA: 0s - loss: 1.1837e-04 - categorical_accuracy: 1.0000\n",
            "Epoch 61: val_loss did not improve from 0.16007\n",
            "83/83 [==============================] - 5s 55ms/step - loss: 1.1867e-04 - categorical_accuracy: 1.0000 - val_loss: 0.2336 - val_categorical_accuracy: 0.9729 - lr: 3.2768e-04\n",
            "Epoch 62/100\n",
            "82/83 [============================>.] - ETA: 0s - loss: 1.8959e-04 - categorical_accuracy: 1.0000\n",
            "Epoch 62: val_loss did not improve from 0.16007\n",
            "83/83 [==============================] - 4s 54ms/step - loss: 1.8930e-04 - categorical_accuracy: 1.0000 - val_loss: 0.2309 - val_categorical_accuracy: 0.9759 - lr: 3.2768e-04\n",
            "Epoch 63/100\n",
            "82/83 [============================>.] - ETA: 0s - loss: 1.3625e-04 - categorical_accuracy: 1.0000\n",
            "Epoch 63: val_loss did not improve from 0.16007\n",
            "83/83 [==============================] - 4s 52ms/step - loss: 1.3623e-04 - categorical_accuracy: 1.0000 - val_loss: 0.2337 - val_categorical_accuracy: 0.9729 - lr: 3.2768e-04\n",
            "Epoch 64/100\n",
            "83/83 [==============================] - ETA: 0s - loss: 1.0958e-04 - categorical_accuracy: 1.0000\n",
            "Epoch 64: val_loss did not improve from 0.16007\n",
            "83/83 [==============================] - 5s 55ms/step - loss: 1.0958e-04 - categorical_accuracy: 1.0000 - val_loss: 0.2360 - val_categorical_accuracy: 0.9729 - lr: 3.2768e-04\n",
            "Epoch 65/100\n",
            "83/83 [==============================] - ETA: 0s - loss: 1.0665e-04 - categorical_accuracy: 1.0000\n",
            "Epoch 65: val_loss did not improve from 0.16007\n",
            "83/83 [==============================] - 4s 54ms/step - loss: 1.0665e-04 - categorical_accuracy: 1.0000 - val_loss: 0.2378 - val_categorical_accuracy: 0.9729 - lr: 3.2768e-04\n",
            "Epoch 66/100\n",
            "83/83 [==============================] - ETA: 0s - loss: 1.1910e-04 - categorical_accuracy: 1.0000\n",
            "Epoch 66: val_loss did not improve from 0.16007\n",
            "83/83 [==============================] - 4s 51ms/step - loss: 1.1910e-04 - categorical_accuracy: 1.0000 - val_loss: 0.2472 - val_categorical_accuracy: 0.9729 - lr: 3.2768e-04\n",
            "Epoch 67/100\n",
            "82/83 [============================>.] - ETA: 0s - loss: 1.5302e-04 - categorical_accuracy: 1.0000\n",
            "Epoch 67: val_loss did not improve from 0.16007\n",
            "\n",
            "Epoch 67: ReduceLROnPlateau reducing learning rate to 0.0002621440216898918.\n",
            "83/83 [==============================] - 5s 56ms/step - loss: 1.5188e-04 - categorical_accuracy: 1.0000 - val_loss: 0.2411 - val_categorical_accuracy: 0.9729 - lr: 3.2768e-04\n",
            "Epoch 68/100\n",
            "82/83 [============================>.] - ETA: 0s - loss: 1.3221e-04 - categorical_accuracy: 1.0000\n",
            "Epoch 68: val_loss did not improve from 0.16007\n",
            "83/83 [==============================] - 4s 53ms/step - loss: 1.3164e-04 - categorical_accuracy: 1.0000 - val_loss: 0.2466 - val_categorical_accuracy: 0.9729 - lr: 2.6214e-04\n",
            "Epoch 69/100\n",
            "83/83 [==============================] - ETA: 0s - loss: 9.4383e-05 - categorical_accuracy: 1.0000\n",
            "Epoch 69: val_loss did not improve from 0.16007\n",
            "83/83 [==============================] - 4s 51ms/step - loss: 9.4383e-05 - categorical_accuracy: 1.0000 - val_loss: 0.2456 - val_categorical_accuracy: 0.9729 - lr: 2.6214e-04\n",
            "Epoch 70/100\n",
            "82/83 [============================>.] - ETA: 0s - loss: 1.8851e-04 - categorical_accuracy: 1.0000\n",
            "Epoch 70: val_loss did not improve from 0.16007\n",
            "83/83 [==============================] - 5s 56ms/step - loss: 1.8664e-04 - categorical_accuracy: 1.0000 - val_loss: 0.2591 - val_categorical_accuracy: 0.9729 - lr: 2.6214e-04\n",
            "Epoch 71/100\n",
            "83/83 [==============================] - ETA: 0s - loss: 1.2603e-04 - categorical_accuracy: 1.0000\n",
            "Epoch 71: val_loss did not improve from 0.16007\n",
            "83/83 [==============================] - 4s 54ms/step - loss: 1.2603e-04 - categorical_accuracy: 1.0000 - val_loss: 0.2490 - val_categorical_accuracy: 0.9729 - lr: 2.6214e-04\n",
            "Epoch 72/100\n",
            "82/83 [============================>.] - ETA: 0s - loss: 6.9427e-05 - categorical_accuracy: 1.0000\n",
            "Epoch 72: val_loss did not improve from 0.16007\n",
            "83/83 [==============================] - 4s 52ms/step - loss: 6.9170e-05 - categorical_accuracy: 1.0000 - val_loss: 0.2477 - val_categorical_accuracy: 0.9729 - lr: 2.6214e-04\n",
            "Epoch 73/100\n",
            "82/83 [============================>.] - ETA: 0s - loss: 1.2637e-04 - categorical_accuracy: 1.0000\n",
            "Epoch 73: val_loss did not improve from 0.16007\n",
            "83/83 [==============================] - 4s 53ms/step - loss: 1.2498e-04 - categorical_accuracy: 1.0000 - val_loss: 0.2450 - val_categorical_accuracy: 0.9729 - lr: 2.6214e-04\n",
            "Epoch 74/100\n",
            "83/83 [==============================] - ETA: 0s - loss: 6.2824e-05 - categorical_accuracy: 1.0000\n",
            "Epoch 74: val_loss did not improve from 0.16007\n",
            "83/83 [==============================] - 4s 53ms/step - loss: 6.2824e-05 - categorical_accuracy: 1.0000 - val_loss: 0.2469 - val_categorical_accuracy: 0.9729 - lr: 2.6214e-04\n",
            "Epoch 75/100\n",
            "82/83 [============================>.] - ETA: 0s - loss: 6.7540e-05 - categorical_accuracy: 1.0000\n",
            "Epoch 75: val_loss did not improve from 0.16007\n",
            "83/83 [==============================] - 4s 52ms/step - loss: 6.7421e-05 - categorical_accuracy: 1.0000 - val_loss: 0.2493 - val_categorical_accuracy: 0.9729 - lr: 2.6214e-04\n"
          ]
        }
      ]
    },
    {
      "cell_type": "code",
      "source": [
        "# Save the entire model (architecture and weights)\n",
        "model.save(r\"/content/drive/MyDrive/Sem4_Project /Pneumonia/lungcancer_resnet.h5\")\n"
      ],
      "metadata": {
        "colab": {
          "base_uri": "https://localhost:8080/"
        },
        "id": "cGBOh7D7Tr6V",
        "outputId": "9d57023a-a9b7-4840-d88b-566c47e7c2de"
      },
      "execution_count": 11,
      "outputs": [
        {
          "output_type": "stream",
          "name": "stderr",
          "text": [
            "/usr/local/lib/python3.10/dist-packages/keras/src/engine/training.py:3103: UserWarning: You are saving your model as an HDF5 file via `model.save()`. This file format is considered legacy. We recommend using instead the native Keras format, e.g. `model.save('my_model.keras')`.\n",
            "  saving_api.save_model(\n"
          ]
        }
      ]
    },
    {
      "cell_type": "code",
      "source": [
        "#evaluates the trained model on a validation set and prints the test loss and accuracy.\n",
        "test_loss, test_score = model.evaluate(x_valid, y_valid, batch_size=24)\n",
        "print(\"Loss on test set: \", test_loss)\n",
        "print(\"Accuracy on test set: \", test_score)\n",
        "#2304 seconds 50 epochs\n",
        "#192 ms/step = average ms/step"
      ],
      "metadata": {
        "colab": {
          "base_uri": "https://localhost:8080/"
        },
        "id": "U6LuOnSmM6I6",
        "outputId": "87090f0a-d2c1-45f4-8625-213d4acd6dfa"
      },
      "execution_count": 12,
      "outputs": [
        {
          "output_type": "stream",
          "name": "stdout",
          "text": [
            "18/18 [==============================] - 2s 42ms/step - loss: 0.2216 - categorical_accuracy: 0.9807\n",
            "Loss on test set:  0.22161978483200073\n",
            "Accuracy on test set:  0.9807229042053223\n"
          ]
        }
      ]
    },
    {
      "cell_type": "code",
      "source": [
        "#predictions using the trained model on the validation set (x_valid).\n",
        "#pred_y will contain the predicted outputs of the model for the validation set.\n",
        "\n",
        "pred_y = model.predict(x_valid, callbacks=callbacks_list)"
      ],
      "metadata": {
        "colab": {
          "base_uri": "https://localhost:8080/"
        },
        "id": "aLLVk1AJNB-C",
        "outputId": "c24ede6c-a51b-4bf8-b644-e71c9c7ce98c"
      },
      "execution_count": 13,
      "outputs": [
        {
          "output_type": "stream",
          "name": "stdout",
          "text": [
            "13/13 [==============================] - 2s 91ms/step\n"
          ]
        }
      ]
    },
    {
      "cell_type": "code",
      "source": [
        "# Original labels\n",
        "#checking the shapes of the original labels (orig_test_labels)\n",
        "#and the predicted labels (pred_y).\n",
        "orig_test_labels = np.argmax(y_valid, axis=-1)\n",
        "\n",
        "print(orig_test_labels.shape)\n",
        "print(pred_y.shape)"
      ],
      "metadata": {
        "colab": {
          "base_uri": "https://localhost:8080/"
        },
        "id": "4ePb5LRwNEvR",
        "outputId": "71bda33f-5ded-4c6c-adf9-1426454383ca"
      },
      "execution_count": 14,
      "outputs": [
        {
          "output_type": "stream",
          "name": "stdout",
          "text": [
            "(415,)\n",
            "(415, 3)\n"
          ]
        }
      ]
    },
    {
      "cell_type": "code",
      "source": [
        "from sklearn.metrics import classification_report\n",
        "print(classification_report(np.argmax(y_valid, axis = 1),np.argmax(pred_y, axis = 1)))"
      ],
      "metadata": {
        "colab": {
          "base_uri": "https://localhost:8080/"
        },
        "id": "J41_E3w0NGkZ",
        "outputId": "9c6da606-1a45-49b0-9566-fe78c7b20061"
      },
      "execution_count": 15,
      "outputs": [
        {
          "output_type": "stream",
          "name": "stdout",
          "text": [
            "              precision    recall  f1-score   support\n",
            "\n",
            "           0       0.95      0.83      0.89        24\n",
            "           1       0.99      0.99      0.99       268\n",
            "           2       0.97      0.98      0.98       123\n",
            "\n",
            "    accuracy                           0.98       415\n",
            "   macro avg       0.97      0.94      0.95       415\n",
            "weighted avg       0.98      0.98      0.98       415\n",
            "\n"
          ]
        }
      ]
    },
    {
      "cell_type": "code",
      "source": [
        "from sklearn.metrics import confusion_matrix\n",
        "import matplotlib.pyplot as plt\n",
        "import seaborn as sns\n",
        "\n",
        "# Get the confusion matrix\n",
        "cm = confusion_matrix(orig_test_labels, np.argmax(pred_y, axis=1))\n",
        "\n",
        "# Plot confusion matrix\n",
        "plt.figure(figsize=(8, 6))\n",
        "sns.heatmap(cm, annot=True, fmt='d', cmap='Blues', xticklabels=['Benign', 'Malignant', 'Normal'], yticklabels=['Benign', 'Malignant', 'Normal'])\n",
        "plt.xlabel('Predicted labels')\n",
        "plt.ylabel('True labels')\n",
        "plt.title('Confusion Matrix')\n",
        "plt.show()\n"
      ],
      "metadata": {
        "colab": {
          "base_uri": "https://localhost:8080/",
          "height": 564
        },
        "id": "XPVmqg29qFe2",
        "outputId": "333794af-a662-4467-ccbc-5d29d0e369a0"
      },
      "execution_count": 16,
      "outputs": [
        {
          "output_type": "display_data",
          "data": {
            "text/plain": [
              "<Figure size 800x600 with 2 Axes>"
            ],
            "image/png": "[encoded data removed]"
          },
          "metadata": {}
        }
      ]
    },
    {
      "cell_type": "code",
      "source": [
        "from sklearn.metrics import roc_curve, auc\n",
        "\n",
        "# Compute ROC curve and ROC area for each class\n",
        "fpr = dict()\n",
        "tpr = dict()\n",
        "roc_auc = dict()\n",
        "for i in range(3):\n",
        "    fpr[i], tpr[i], _ = roc_curve(y_valid[:, i], pred_y[:, i])\n",
        "    roc_auc[i] = auc(fpr[i], tpr[i])\n",
        "\n",
        "# Plot ROC curve\n",
        "plt.figure()\n",
        "colors = ['blue', 'red', 'green']\n",
        "labels = ['Benign', 'Malignant', 'Normal']\n",
        "for i, color in zip(range(3), colors):\n",
        "    plt.plot(fpr[i], tpr[i], color=color, lw=2,\n",
        "             label=f'ROC curve of class {labels[i]} (area = {roc_auc[i]:.2f})')\n",
        "\n",
        "plt.plot([0, 1], [0, 1], 'k--', lw=2)\n",
        "plt.xlim([0.0, 1.0])\n",
        "plt.ylim([0.0, 1.05])\n",
        "plt.xlabel('False Positive Rate')\n",
        "plt.ylabel('True Positive Rate')\n",
        "plt.title('ROC Curve')\n",
        "plt.legend(loc='lower right')\n",
        "plt.show()\n"
      ],
      "metadata": {
        "colab": {
          "base_uri": "https://localhost:8080/",
          "height": 472
        },
        "id": "G6xbDx-JqPrG",
        "outputId": "aaffafe9-af7f-4eef-a837-77fa04151b6f"
      },
      "execution_count": 17,
      "outputs": [
        {
          "output_type": "display_data",
          "data": {
            "text/plain": [
              "<Figure size 640x480 with 1 Axes>"
            ],
            "image/png": "[encoded data removed]"
          },
          "metadata": {}
        }
      ]
    }
  ]
}